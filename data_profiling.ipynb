{
 "cells": [
  {
   "cell_type": "markdown",
   "metadata": {},
   "source": [
    "# Task Description\n",
    "Suppose you are working on a project for a pharmaceutical company. The company wants to monitor the sales team's\n",
    "daily activities. You've already performed discovery and prepared the initial mock-ups for the dashboard. Now, you\n",
    "need to assess the client's initial data to make sure it is sufficient for calculating the required metrics and KPIs\n",
    "\n",
    "Check to make sure the following KPIs can be calcualted:\n",
    "- Average time from first contact with a client to\n",
    "signing a deal\n",
    "- Average number of calls per salesperson with\n",
    "one client, from first contact to signing a deal\n",
    "- Customer coverage (number of customers\n",
    "covered / number of customers in the plan)\n",
    "\n",
    "Outcomes:\n",
    "Provide the results of your work in an Excel table. You can find an example below, but keep in mind that you can adjust\n",
    "the table to your specific needs.\n",
    "\n",
    "|Check no.|Check type|Entity|Check description|SQL/formula used|Result|\n",
    "|---|---|---|---|---|---|\n",
    "|...|...|...|...|...|...|"
   ]
  },
  {
   "cell_type": "markdown",
   "metadata": {},
   "source": [
    "# Solution\n",
    "Let's identify attributes that we need to check in detail for calculating KPIs. \n",
    "1. Explore Data \n",
    "2. Define attributes for calculating KPI \n",
    "3. Create a list of attributes"
   ]
  },
  {
   "cell_type": "markdown",
   "metadata": {},
   "source": [
    "## Explore Data"
   ]
  },
  {
   "cell_type": "code",
   "execution_count": 1,
   "metadata": {},
   "outputs": [],
   "source": [
    "import pandas as pd\n",
    "from ydata_profiling import ProfileReport\n",
    "import duckdb\n",
    "import iplantuml\n",
    "from datetime import datetime\n",
    "import numpy as np"
   ]
  },
  {
   "cell_type": "code",
   "execution_count": 58,
   "metadata": {},
   "outputs": [],
   "source": [
    "# read data from the spreadsheets\n",
    "\n",
    "## call table\n",
    "calls_df = pd.read_excel(\"profiling_dataset.xlsx\", sheet_name=\"Calls_table\", header=0)\n",
    "\n",
    "## sales_df\n",
    "sales_people_df = pd.read_excel(\"profiling_dataset.xlsx\", sheet_name=\"Sales_people_table\", header=0)\n",
    "\n",
    "## customer table\n",
    "customer_df = pd.read_excel(\"profiling_dataset.xlsx\", sheet_name=\"Customer_table\", header=0)"
   ]
  },
  {
   "cell_type": "code",
   "execution_count": 3,
   "metadata": {},
   "outputs": [
    {
     "name": "stdout",
     "output_type": "stream",
     "text": [
      "<class 'pandas.core.frame.DataFrame'>\n",
      "RangeIndex: 4435 entries, 0 to 4434\n",
      "Data columns (total 4 columns):\n",
      " #   Column             Non-Null Count  Dtype         \n",
      "---  ------             --------------  -----         \n",
      " 0   Sales_Person_ID    4435 non-null   int64         \n",
      " 1   Customer_ID        4435 non-null   int64         \n",
      " 2   Call_Date_UTC      4435 non-null   datetime64[ns]\n",
      " 3   Call_Duration_Sec  4435 non-null   int64         \n",
      "dtypes: datetime64[ns](1), int64(3)\n",
      "memory usage: 138.7 KB\n"
     ]
    }
   ],
   "source": [
    "calls_df.info()"
   ]
  },
  {
   "cell_type": "code",
   "execution_count": 4,
   "metadata": {},
   "outputs": [
    {
     "name": "stdout",
     "output_type": "stream",
     "text": [
      "<class 'pandas.core.frame.DataFrame'>\n",
      "RangeIndex: 150 entries, 0 to 149\n",
      "Data columns (total 5 columns):\n",
      " #   Column                Non-Null Count  Dtype \n",
      "---  ------                --------------  ----- \n",
      " 0   Sales_Person_ID       150 non-null    int64 \n",
      " 1   Sales_Person_Name     150 non-null    object\n",
      " 2   Sales_Person_Country  150 non-null    object\n",
      " 3   Sales_Person_City     112 non-null    object\n",
      " 4   Sales_Person_Address  115 non-null    object\n",
      "dtypes: int64(1), object(4)\n",
      "memory usage: 6.0+ KB\n"
     ]
    }
   ],
   "source": [
    "sales_people_df.info()"
   ]
  },
  {
   "cell_type": "code",
   "execution_count": 5,
   "metadata": {},
   "outputs": [
    {
     "name": "stdout",
     "output_type": "stream",
     "text": [
      "<class 'pandas.core.frame.DataFrame'>\n",
      "RangeIndex: 1228 entries, 0 to 1227\n",
      "Data columns (total 7 columns):\n",
      " #   Column             Non-Null Count  Dtype \n",
      "---  ------             --------------  ----- \n",
      " 0   Customer_ID        1228 non-null   int64 \n",
      " 1   Customer_Category  1034 non-null   object\n",
      " 2   Customer_Name      1220 non-null   object\n",
      " 3   Customer_Phone     929 non-null    object\n",
      " 4   Customer_Address   1128 non-null   object\n",
      " 5   Customer_City      1017 non-null   object\n",
      " 6   Date_of_Agreement  285 non-null    object\n",
      "dtypes: int64(1), object(6)\n",
      "memory usage: 67.3+ KB\n"
     ]
    }
   ],
   "source": [
    "customer_df.info()"
   ]
  },
  {
   "cell_type": "code",
   "execution_count": 6,
   "metadata": {},
   "outputs": [
    {
     "data": {
      "image/svg+xml": [
       "<svg xmlns=\"http://www.w3.org/2000/svg\" xmlns:xlink=\"http://www.w3.org/1999/xlink\" contentStyleType=\"text/css\" height=\"382px\" preserveAspectRatio=\"none\" style=\"width:553px;height:382px;background:#FFFFFF;\" version=\"1.1\" viewBox=\"0 0 553 382\" width=\"553px\" zoomAndPan=\"magnify\"><defs/><g><!--class calls--><g id=\"elem_calls\"><rect codeLine=\"1\" fill=\"#F1F1F1\" height=\"113.1875\" id=\"calls\" rx=\"2.5\" ry=\"2.5\" style=\"stroke:#181818;stroke-width:0.5;\" width=\"220\" x=\"315.5\" y=\"254\"/><ellipse cx=\"405.75\" cy=\"270\" fill=\"#ADD1B2\" rx=\"11\" ry=\"11\" style=\"stroke:#181818;stroke-width:1.0;\"/><path d=\"M404.5469,270.875 L406,270.875 L406,270.9844 C406,271.3906 406.0313,271.5469 406.1094,271.7031 C406.2656,271.9531 406.5469,272.1094 406.8438,272.1094 C407.0938,272.1094 407.3594,271.9688 407.5156,271.75 C407.6406,271.5938 407.6719,271.4375 407.6719,270.9844 L407.6719,269.0625 C407.6719,268.9063 407.6719,268.8594 407.6563,268.7031 C407.5938,268.2344 407.2813,267.9219 406.8281,267.9219 C406.5781,267.9219 406.3125,268.0625 406.1406,268.2813 C406.0313,268.4531 406,268.6094 406,269.0625 L406,269.1875 L404.5469,269.1875 L404.5469,266.7813 L408.5313,266.7813 L408.5313,267.6406 C408.5313,268.0469 408.5625,268.2188 408.6406,268.375 C408.8125,268.625 409.0938,268.7813 409.375,268.7813 C409.6406,268.7813 409.9063,268.6406 410.0781,268.4219 C410.1875,268.25 410.2188,268.1094 410.2188,267.6406 L410.2188,265.0938 L402.5938,265.0938 C402.1563,265.0938 402.0313,265.1094 401.875,265.2031 C401.625,265.3594 401.4688,265.6563 401.4688,265.9375 C401.4688,266.2188 401.6094,266.4688 401.8281,266.6406 C401.9844,266.75 402.1719,266.7813 402.5938,266.7813 L402.8438,266.7813 L402.8438,273.2969 L402.5938,273.2969 C402.1875,273.2969 402.0313,273.3125 401.875,273.4219 C401.625,273.5938 401.4688,273.8594 401.4688,274.1563 C401.4688,274.4219 401.6094,274.6719 401.8281,274.8281 C401.9688,274.9531 402.2031,275 402.5938,275 L410.5938,275 L410.5938,272.4219 C410.5938,271.9844 410.5625,271.8438 410.4844,271.6875 C410.3125,271.4375 410.0313,271.2813 409.75,271.2813 C409.4844,271.2813 409.2188,271.3906 409.0469,271.6406 C408.9375,271.7969 408.9063,271.9375 408.9063,272.4219 L408.9063,273.2969 L404.5469,273.2969 L404.5469,270.875 Z \" fill=\"#000000\"/><text fill=\"#000000\" font-family=\"sans-serif\" font-size=\"14\" lengthAdjust=\"spacing\" textLength=\"31\" x=\"426.25\" y=\"274.8467\">calls</text><line style=\"stroke:#181818;stroke-width:0.5;\" x1=\"316.5\" x2=\"534.5\" y1=\"286\" y2=\"286\"/><ellipse cx=\"326.5\" cy=\"299.6484\" fill=\"#000000\" rx=\"3\" ry=\"3\" style=\"stroke:#000000;stroke-width:1.0;\"/><text fill=\"#000000\" font-family=\"sans-serif\" font-size=\"14\" lengthAdjust=\"spacing\" textLength=\"181\" x=\"335.5\" y=\"302.9951\">Sales_Person_ID : integer</text><ellipse cx=\"326.5\" cy=\"315.9453\" fill=\"#000000\" rx=\"3\" ry=\"3\" style=\"stroke:#000000;stroke-width:1.0;\"/><text fill=\"#000000\" font-family=\"sans-serif\" font-size=\"14\" lengthAdjust=\"spacing\" textLength=\"158\" x=\"335.5\" y=\"319.292\">Customer_ID : integer</text><ellipse cx=\"326.5\" cy=\"332.2422\" fill=\"#000000\" rx=\"3\" ry=\"3\" style=\"stroke:#000000;stroke-width:1.0;\"/><text fill=\"#000000\" font-family=\"sans-serif\" font-size=\"14\" lengthAdjust=\"spacing\" textLength=\"183\" x=\"335.5\" y=\"335.5889\">Call_Date_UTC : datetime</text><ellipse cx=\"326.5\" cy=\"348.5391\" fill=\"#000000\" rx=\"3\" ry=\"3\" style=\"stroke:#000000;stroke-width:1.0;\"/><text fill=\"#000000\" font-family=\"sans-serif\" font-size=\"14\" lengthAdjust=\"spacing\" textLength=\"194\" x=\"335.5\" y=\"351.8857\">Call_Duration_Sec : integer</text><line style=\"stroke:#181818;stroke-width:0.5;\" x1=\"316.5\" x2=\"534.5\" y1=\"359.1875\" y2=\"359.1875\"/></g><!--class sales_people--><g id=\"elem_sales_people\"><rect codeLine=\"8\" fill=\"#F1F1F1\" height=\"129.4844\" id=\"sales_people\" rx=\"2.5\" ry=\"2.5\" style=\"stroke:#181818;stroke-width:0.5;\" width=\"249\" x=\"7\" y=\"246\"/><ellipse cx=\"80.75\" cy=\"262\" fill=\"#ADD1B2\" rx=\"11\" ry=\"11\" style=\"stroke:#181818;stroke-width:1.0;\"/><path d=\"M79.5469,262.875 L81,262.875 L81,262.9844 C81,263.3906 81.0313,263.5469 81.1094,263.7031 C81.2656,263.9531 81.5469,264.1094 81.8438,264.1094 C82.0938,264.1094 82.3594,263.9688 82.5156,263.75 C82.6406,263.5938 82.6719,263.4375 82.6719,262.9844 L82.6719,261.0625 C82.6719,260.9063 82.6719,260.8594 82.6563,260.7031 C82.5938,260.2344 82.2813,259.9219 81.8281,259.9219 C81.5781,259.9219 81.3125,260.0625 81.1406,260.2813 C81.0313,260.4531 81,260.6094 81,261.0625 L81,261.1875 L79.5469,261.1875 L79.5469,258.7813 L83.5313,258.7813 L83.5313,259.6406 C83.5313,260.0469 83.5625,260.2188 83.6406,260.375 C83.8125,260.625 84.0938,260.7813 84.375,260.7813 C84.6406,260.7813 84.9063,260.6406 85.0781,260.4219 C85.1875,260.25 85.2188,260.1094 85.2188,259.6406 L85.2188,257.0938 L77.5938,257.0938 C77.1563,257.0938 77.0313,257.1094 76.875,257.2031 C76.625,257.3594 76.4688,257.6563 76.4688,257.9375 C76.4688,258.2188 76.6094,258.4688 76.8281,258.6406 C76.9844,258.75 77.1719,258.7813 77.5938,258.7813 L77.8438,258.7813 L77.8438,265.2969 L77.5938,265.2969 C77.1875,265.2969 77.0313,265.3125 76.875,265.4219 C76.625,265.5938 76.4688,265.8594 76.4688,266.1563 C76.4688,266.4219 76.6094,266.6719 76.8281,266.8281 C76.9688,266.9531 77.2031,267 77.5938,267 L85.5938,267 L85.5938,264.4219 C85.5938,263.9844 85.5625,263.8438 85.4844,263.6875 C85.3125,263.4375 85.0313,263.2813 84.75,263.2813 C84.4844,263.2813 84.2188,263.3906 84.0469,263.6406 C83.9375,263.7969 83.9063,263.9375 83.9063,264.4219 L83.9063,265.2969 L79.5469,265.2969 L79.5469,262.875 Z \" fill=\"#000000\"/><text fill=\"#000000\" font-family=\"sans-serif\" font-size=\"14\" lengthAdjust=\"spacing\" textLength=\"93\" x=\"101.25\" y=\"266.8467\">sales_people</text><line style=\"stroke:#181818;stroke-width:0.5;\" x1=\"8\" x2=\"255\" y1=\"278\" y2=\"278\"/><ellipse cx=\"18\" cy=\"291.6484\" fill=\"#000000\" rx=\"3\" ry=\"3\" style=\"stroke:#000000;stroke-width:1.0;\"/><text fill=\"#000000\" font-family=\"sans-serif\" font-size=\"14\" lengthAdjust=\"spacing\" textLength=\"181\" x=\"27\" y=\"294.9951\">Sales_Person_ID : integer</text><ellipse cx=\"18\" cy=\"307.9453\" fill=\"#000000\" rx=\"3\" ry=\"3\" style=\"stroke:#000000;stroke-width:1.0;\"/><text fill=\"#000000\" font-family=\"sans-serif\" font-size=\"14\" lengthAdjust=\"spacing\" textLength=\"207\" x=\"27\" y=\"311.292\">Sales_Person_Name : varchar</text><ellipse cx=\"18\" cy=\"324.2422\" fill=\"#000000\" rx=\"3\" ry=\"3\" style=\"stroke:#000000;stroke-width:1.0;\"/><text fill=\"#000000\" font-family=\"sans-serif\" font-size=\"14\" lengthAdjust=\"spacing\" textLength=\"223\" x=\"27\" y=\"327.5889\">Sales_Person_Country : varchar</text><ellipse cx=\"18\" cy=\"340.5391\" fill=\"#000000\" rx=\"3\" ry=\"3\" style=\"stroke:#000000;stroke-width:1.0;\"/><text fill=\"#000000\" font-family=\"sans-serif\" font-size=\"14\" lengthAdjust=\"spacing\" textLength=\"195\" x=\"27\" y=\"343.8857\">Sales_Person_City : varchar</text><ellipse cx=\"18\" cy=\"356.8359\" fill=\"#000000\" rx=\"3\" ry=\"3\" style=\"stroke:#000000;stroke-width:1.0;\"/><text fill=\"#000000\" font-family=\"sans-serif\" font-size=\"14\" lengthAdjust=\"spacing\" textLength=\"223\" x=\"27\" y=\"360.1826\">Sales_Person_Address : varchar</text><line style=\"stroke:#181818;stroke-width:0.5;\" x1=\"8\" x2=\"255\" y1=\"367.4844\" y2=\"367.4844\"/></g><!--class customer--><g id=\"elem_customer\"><rect codeLine=\"16\" fill=\"#F1F1F1\" height=\"162.0781\" id=\"customer\" rx=\"2.5\" ry=\"2.5\" style=\"stroke:#181818;stroke-width:0.5;\" width=\"242\" x=\"304.5\" y=\"7\"/><ellipse cx=\"387.25\" cy=\"23\" fill=\"#ADD1B2\" rx=\"11\" ry=\"11\" style=\"stroke:#181818;stroke-width:1.0;\"/><path d=\"M386.0469,23.875 L387.5,23.875 L387.5,23.9844 C387.5,24.3906 387.5313,24.5469 387.6094,24.7031 C387.7656,24.9531 388.0469,25.1094 388.3438,25.1094 C388.5938,25.1094 388.8594,24.9688 389.0156,24.75 C389.1406,24.5938 389.1719,24.4375 389.1719,23.9844 L389.1719,22.0625 C389.1719,21.9063 389.1719,21.8594 389.1563,21.7031 C389.0938,21.2344 388.7813,20.9219 388.3281,20.9219 C388.0781,20.9219 387.8125,21.0625 387.6406,21.2813 C387.5313,21.4531 387.5,21.6094 387.5,22.0625 L387.5,22.1875 L386.0469,22.1875 L386.0469,19.7813 L390.0313,19.7813 L390.0313,20.6406 C390.0313,21.0469 390.0625,21.2188 390.1406,21.375 C390.3125,21.625 390.5938,21.7813 390.875,21.7813 C391.1406,21.7813 391.4063,21.6406 391.5781,21.4219 C391.6875,21.25 391.7188,21.1094 391.7188,20.6406 L391.7188,18.0938 L384.0938,18.0938 C383.6563,18.0938 383.5313,18.1094 383.375,18.2031 C383.125,18.3594 382.9688,18.6563 382.9688,18.9375 C382.9688,19.2188 383.1094,19.4688 383.3281,19.6406 C383.4844,19.75 383.6719,19.7813 384.0938,19.7813 L384.3438,19.7813 L384.3438,26.2969 L384.0938,26.2969 C383.6875,26.2969 383.5313,26.3125 383.375,26.4219 C383.125,26.5938 382.9688,26.8594 382.9688,27.1563 C382.9688,27.4219 383.1094,27.6719 383.3281,27.8281 C383.4688,27.9531 383.7031,28 384.0938,28 L392.0938,28 L392.0938,25.4219 C392.0938,24.9844 392.0625,24.8438 391.9844,24.6875 C391.8125,24.4375 391.5313,24.2813 391.25,24.2813 C390.9844,24.2813 390.7188,24.3906 390.5469,24.6406 C390.4375,24.7969 390.4063,24.9375 390.4063,25.4219 L390.4063,26.2969 L386.0469,26.2969 L386.0469,23.875 Z \" fill=\"#000000\"/><text fill=\"#000000\" font-family=\"sans-serif\" font-size=\"14\" lengthAdjust=\"spacing\" textLength=\"68\" x=\"407.75\" y=\"27.8467\">customer</text><line style=\"stroke:#181818;stroke-width:0.5;\" x1=\"305.5\" x2=\"545.5\" y1=\"39\" y2=\"39\"/><ellipse cx=\"315.5\" cy=\"52.6484\" fill=\"#000000\" rx=\"3\" ry=\"3\" style=\"stroke:#000000;stroke-width:1.0;\"/><text fill=\"#000000\" font-family=\"sans-serif\" font-size=\"14\" lengthAdjust=\"spacing\" textLength=\"158\" x=\"324.5\" y=\"55.9951\">Customer_ID : integer</text><ellipse cx=\"315.5\" cy=\"68.9453\" fill=\"#000000\" rx=\"3\" ry=\"3\" style=\"stroke:#000000;stroke-width:1.0;\"/><text fill=\"#000000\" font-family=\"sans-serif\" font-size=\"14\" lengthAdjust=\"spacing\" textLength=\"209\" x=\"324.5\" y=\"72.292\">Customer_Category : varchar</text><ellipse cx=\"315.5\" cy=\"85.2422\" fill=\"#000000\" rx=\"3\" ry=\"3\" style=\"stroke:#000000;stroke-width:1.0;\"/><text fill=\"#000000\" font-family=\"sans-serif\" font-size=\"14\" lengthAdjust=\"spacing\" textLength=\"184\" x=\"324.5\" y=\"88.5889\">Customer_Name : varchar</text><ellipse cx=\"315.5\" cy=\"101.5391\" fill=\"#000000\" rx=\"3\" ry=\"3\" style=\"stroke:#000000;stroke-width:1.0;\"/><text fill=\"#000000\" font-family=\"sans-serif\" font-size=\"14\" lengthAdjust=\"spacing\" textLength=\"188\" x=\"324.5\" y=\"104.8857\">Customer_Phone : varchar</text><ellipse cx=\"315.5\" cy=\"117.8359\" fill=\"#000000\" rx=\"3\" ry=\"3\" style=\"stroke:#000000;stroke-width:1.0;\"/><text fill=\"#000000\" font-family=\"sans-serif\" font-size=\"14\" lengthAdjust=\"spacing\" textLength=\"200\" x=\"324.5\" y=\"121.1826\">Customer_Address : varchar</text><ellipse cx=\"315.5\" cy=\"134.1328\" fill=\"#000000\" rx=\"3\" ry=\"3\" style=\"stroke:#000000;stroke-width:1.0;\"/><text fill=\"#000000\" font-family=\"sans-serif\" font-size=\"14\" lengthAdjust=\"spacing\" textLength=\"172\" x=\"324.5\" y=\"137.4795\">Customer_City : varchar</text><ellipse cx=\"315.5\" cy=\"150.4297\" fill=\"#000000\" rx=\"3\" ry=\"3\" style=\"stroke:#000000;stroke-width:1.0;\"/><text fill=\"#000000\" font-family=\"sans-serif\" font-size=\"14\" lengthAdjust=\"spacing\" textLength=\"216\" x=\"324.5\" y=\"153.7764\">Date_of_Agreement  : varchar</text><line style=\"stroke:#181818;stroke-width:0.5;\" x1=\"305.5\" x2=\"545.5\" y1=\"161.0781\" y2=\"161.0781\"/></g><!--link sales_people to calls--><g id=\"link_sales_people_calls\"><path codeLine=\"26\" d=\"M256.182,310.5 C275.745,310.5 295.848,310.5 315.061,310.5 \" fill=\"none\" id=\"sales_people-calls\" style=\"stroke:#181818;stroke-width:1.0;\"/><text fill=\"#000000\" font-family=\"sans-serif\" font-size=\"13\" lengthAdjust=\"spacing\" textLength=\"23\" x=\"274.25\" y=\"303.5669\">1..*</text></g><!--link customer to calls--><g id=\"link_customer_calls\"><path codeLine=\"27\" d=\"M425.5,169.229 C425.5,197.305 425.5,228.192 425.5,253.818 \" fill=\"none\" id=\"customer-calls\" style=\"stroke:#181818;stroke-width:1.0;\"/><text fill=\"#000000\" font-family=\"sans-serif\" font-size=\"13\" lengthAdjust=\"spacing\" textLength=\"23\" x=\"426.5\" y=\"212.0669\">1..*</text></g><!--SRC=[ZPAz2eCm58NtF4LcGQ6hcyIbIn5ivn3qLeNyI18BKlhkJQsrfWsscGBVuUQSSmFITdR45UFSu2l2xaIuP1mCBK0R9Ua-nodkf8K6zCp9OAmIe8FCJQ8viq1FH-9exQws4-3XGJFRkTabLAi1DuJWQSTC1dfGFOU_NNdym0GunONfgcL11L63j7hy8NgusLHaTQt1c9Ne7QEQUreYR1RtOiGrrgY0iqKH3BVGebLo0tyR_dm_b7dQg3hJhD40mkN3Vc9lO_7ydrAyIv88BJN4FhW3]--></g></svg>"
      ],
      "text/plain": [
       "<IPython.core.display.SVG object>"
      ]
     },
     "execution_count": 6,
     "metadata": {},
     "output_type": "execute_result"
    }
   ],
   "source": [
    "%%plantuml\n",
    "\n",
    "@startuml\n",
    "\n",
    "entity calls {\n",
    "    * Sales_Person_ID : integer\n",
    "    * Customer_ID : integer\n",
    "    * Call_Date_UTC : datetime\n",
    "    * Call_Duration_Sec : integer\n",
    "}\n",
    "\n",
    "entity sales_people {\n",
    "    * Sales_Person_ID : integer\n",
    "    * Sales_Person_Name : varchar\n",
    "    * Sales_Person_Country : varchar\n",
    "    * Sales_Person_City : varchar\n",
    "    * Sales_Person_Address : varchar\n",
    "}\n",
    "\n",
    "entity customer {\n",
    "    * Customer_ID : integer\n",
    "    * Customer_Category : varchar\n",
    "    * Customer_Name : varchar\n",
    "    * Customer_Phone : varchar\n",
    "    * Customer_Address : varchar\n",
    "    * Customer_City : varchar\n",
    "    * Date_of_Agreement  : varchar\n",
    "}\n",
    "\n",
    "sales_people - calls : 1..*\n",
    "customer -- calls : 1..*\n",
    "\n",
    "\n",
    "\n",
    "@enduml"
   ]
  },
  {
   "cell_type": "markdown",
   "metadata": {},
   "source": [
    "## Data Profiling"
   ]
  },
  {
   "cell_type": "markdown",
   "metadata": {},
   "source": [
    "### Calls Table Profiling Overview"
   ]
  },
  {
   "cell_type": "code",
   "execution_count": 7,
   "metadata": {},
   "outputs": [],
   "source": [
    "calls_profiling = ProfileReport(calls_df, title=\"Calls Profiling Report\")"
   ]
  },
  {
   "cell_type": "code",
   "execution_count": 8,
   "metadata": {},
   "outputs": [
    {
     "data": {
      "application/vnd.jupyter.widget-view+json": {
       "model_id": "e92bbb40d196498fa352e3d9aeccfb05",
       "version_major": 2,
       "version_minor": 0
      },
      "text/plain": [
       "Summarize dataset:   0%|          | 0/5 [00:00<?, ?it/s]"
      ]
     },
     "metadata": {},
     "output_type": "display_data"
    },
    {
     "data": {
      "application/vnd.jupyter.widget-view+json": {
       "model_id": "716090a754e24bc68d41e7dc1b308543",
       "version_major": 2,
       "version_minor": 0
      },
      "text/plain": [
       "Generate report structure:   0%|          | 0/1 [00:00<?, ?it/s]"
      ]
     },
     "metadata": {},
     "output_type": "display_data"
    },
    {
     "data": {
      "application/vnd.jupyter.widget-view+json": {
       "model_id": "8faba78770b84f41a5ffc18068186028",
       "version_major": 2,
       "version_minor": 0
      },
      "text/plain": [
       "Render widgets:   0%|          | 0/1 [00:00<?, ?it/s]"
      ]
     },
     "metadata": {},
     "output_type": "display_data"
    },
    {
     "data": {
      "application/vnd.jupyter.widget-view+json": {
       "model_id": "26b62c4e6a6944eabd098aeec191431e",
       "version_major": 2,
       "version_minor": 0
      },
      "text/plain": [
       "VBox(children=(Tab(children=(Tab(children=(GridBox(children=(VBox(children=(GridspecLayout(children=(HTML(valu…"
      ]
     },
     "metadata": {},
     "output_type": "display_data"
    }
   ],
   "source": [
    "calls_profiling.to_widgets()"
   ]
  },
  {
   "cell_type": "markdown",
   "metadata": {},
   "source": [
    "### Customer Table Profiling Overview"
   ]
  },
  {
   "cell_type": "code",
   "execution_count": 9,
   "metadata": {},
   "outputs": [],
   "source": [
    "customer_profiling = ProfileReport(customer_df, title=\"Customers Profiling Report\")"
   ]
  },
  {
   "cell_type": "code",
   "execution_count": 10,
   "metadata": {},
   "outputs": [
    {
     "data": {
      "application/vnd.jupyter.widget-view+json": {
       "model_id": "acc6c1467cc947ef939f20c380a9a656",
       "version_major": 2,
       "version_minor": 0
      },
      "text/plain": [
       "Summarize dataset:   0%|          | 0/5 [00:00<?, ?it/s]"
      ]
     },
     "metadata": {},
     "output_type": "display_data"
    },
    {
     "name": "stderr",
     "output_type": "stream",
     "text": [
      "c:\\Users\\Dzianis_Kuziomkin\\AppData\\Local\\Programs\\Python\\Python310\\lib\\site-packages\\ydata_profiling\\model\\correlations.py:66: UserWarning: There was an attempt to calculate the auto correlation, but this failed.\n",
      "To hide this warning, disable the calculation\n",
      "(using `df.profile_report(correlations={\"auto\": {\"calculate\": False}})`\n",
      "If this is problematic for your use case, please report this as an issue:\n",
      "https://github.com/ydataai/ydata-profiling/issues\n",
      "(include the error message: 'could not convert string to float: 'Large'')\n",
      "  warnings.warn(\n"
     ]
    },
    {
     "data": {
      "application/vnd.jupyter.widget-view+json": {
       "model_id": "6d5b6654b4c04d8bbae93b253597b041",
       "version_major": 2,
       "version_minor": 0
      },
      "text/plain": [
       "Generate report structure:   0%|          | 0/1 [00:00<?, ?it/s]"
      ]
     },
     "metadata": {},
     "output_type": "display_data"
    },
    {
     "data": {
      "application/vnd.jupyter.widget-view+json": {
       "model_id": "d5b9dae7a8214832ba6fd7df873235b1",
       "version_major": 2,
       "version_minor": 0
      },
      "text/plain": [
       "Render widgets:   0%|          | 0/1 [00:00<?, ?it/s]"
      ]
     },
     "metadata": {},
     "output_type": "display_data"
    },
    {
     "data": {
      "application/vnd.jupyter.widget-view+json": {
       "model_id": "ff6179af514c4a008b0e37f8c3cbc20e",
       "version_major": 2,
       "version_minor": 0
      },
      "text/plain": [
       "VBox(children=(Tab(children=(Tab(children=(GridBox(children=(VBox(children=(GridspecLayout(children=(HTML(valu…"
      ]
     },
     "metadata": {},
     "output_type": "display_data"
    }
   ],
   "source": [
    "customer_profiling.to_widgets()"
   ]
  },
  {
   "cell_type": "markdown",
   "metadata": {},
   "source": [
    "#### Check unsupported type in the [Customer].[Date of Agreement] "
   ]
  },
  {
   "cell_type": "code",
   "execution_count": 11,
   "metadata": {},
   "outputs": [],
   "source": [
    "# create a function to check if value belongs to datetime\n",
    "def check_not_date(date_field):\n",
    "    result = []\n",
    "    for value in date_field:\n",
    "        if 'datetime.datetime' not in str(type(value)):\n",
    "            if  value is not np.nan:\n",
    "                result.append(value)\n",
    "    return result\n"
   ]
  },
  {
   "cell_type": "code",
   "execution_count": 12,
   "metadata": {},
   "outputs": [],
   "source": [
    "# apply function to define not date types\n",
    "excluded_values = check_not_date(customer_df['Date_of_Agreement'])\n",
    "\n",
    "# create excluded dataframe\n",
    "excluded_df = pd.DataFrame({'values':excluded_values})"
   ]
  },
  {
   "cell_type": "code",
   "execution_count": 30,
   "metadata": {},
   "outputs": [
    {
     "data": {
      "text/html": [
       "<div>\n",
       "<style scoped>\n",
       "    .dataframe tbody tr th:only-of-type {\n",
       "        vertical-align: middle;\n",
       "    }\n",
       "\n",
       "    .dataframe tbody tr th {\n",
       "        vertical-align: top;\n",
       "    }\n",
       "\n",
       "    .dataframe thead th {\n",
       "        text-align: right;\n",
       "    }\n",
       "</style>\n",
       "<table border=\"1\" class=\"dataframe\">\n",
       "  <thead>\n",
       "    <tr style=\"text-align: right;\">\n",
       "      <th></th>\n",
       "      <th>values</th>\n",
       "    </tr>\n",
       "  </thead>\n",
       "  <tbody>\n",
       "    <tr>\n",
       "      <th>0</th>\n",
       "      <td>u6568</td>\n",
       "    </tr>\n",
       "    <tr>\n",
       "      <th>1</th>\n",
       "      <td>*******</td>\n",
       "    </tr>\n",
       "    <tr>\n",
       "      <th>2</th>\n",
       "      <td>#$#64ey4r</td>\n",
       "    </tr>\n",
       "    <tr>\n",
       "      <th>3</th>\n",
       "      <td>*******</td>\n",
       "    </tr>\n",
       "    <tr>\n",
       "      <th>4</th>\n",
       "      <td>bfre3h</td>\n",
       "    </tr>\n",
       "    <tr>\n",
       "      <th>5</th>\n",
       "      <td>any date</td>\n",
       "    </tr>\n",
       "    <tr>\n",
       "      <th>6</th>\n",
       "      <td>any date</td>\n",
       "    </tr>\n",
       "    <tr>\n",
       "      <th>7</th>\n",
       "      <td>47357</td>\n",
       "    </tr>\n",
       "    <tr>\n",
       "      <th>8</th>\n",
       "      <td>*******</td>\n",
       "    </tr>\n",
       "    <tr>\n",
       "      <th>9</th>\n",
       "      <td>**34656</td>\n",
       "    </tr>\n",
       "    <tr>\n",
       "      <th>10</th>\n",
       "      <td>464654</td>\n",
       "    </tr>\n",
       "    <tr>\n",
       "      <th>11</th>\n",
       "      <td>325</td>\n",
       "    </tr>\n",
       "    <tr>\n",
       "      <th>12</th>\n",
       "      <td>*******</td>\n",
       "    </tr>\n",
       "    <tr>\n",
       "      <th>13</th>\n",
       "      <td>*******</td>\n",
       "    </tr>\n",
       "  </tbody>\n",
       "</table>\n",
       "</div>"
      ],
      "text/plain": [
       "       values\n",
       "0       u6568\n",
       "1     *******\n",
       "2   #$#64ey4r\n",
       "3     *******\n",
       "4      bfre3h\n",
       "5    any date\n",
       "6    any date\n",
       "7       47357\n",
       "8     *******\n",
       "9     **34656\n",
       "10     464654\n",
       "11        325\n",
       "12    *******\n",
       "13    *******"
      ]
     },
     "execution_count": 30,
     "metadata": {},
     "output_type": "execute_result"
    }
   ],
   "source": [
    "# display excluded values\n",
    "excluded_df"
   ]
  },
  {
   "cell_type": "markdown",
   "metadata": {},
   "source": [
    "### Sales People table Profiling Overview"
   ]
  },
  {
   "cell_type": "code",
   "execution_count": 27,
   "metadata": {},
   "outputs": [],
   "source": [
    "sales_people_profiling = ProfileReport(sales_people_df, title=\"Sales People Profiling Report\")"
   ]
  },
  {
   "cell_type": "code",
   "execution_count": 28,
   "metadata": {},
   "outputs": [
    {
     "data": {
      "application/vnd.jupyter.widget-view+json": {
       "model_id": "cb545e1f81304ce08e92441d648c4e10",
       "version_major": 2,
       "version_minor": 0
      },
      "text/plain": [
       "Summarize dataset:   0%|          | 0/5 [00:00<?, ?it/s]"
      ]
     },
     "metadata": {},
     "output_type": "display_data"
    },
    {
     "name": "stderr",
     "output_type": "stream",
     "text": [
      "c:\\Users\\Dzianis_Kuziomkin\\AppData\\Local\\Programs\\Python\\Python310\\lib\\site-packages\\ydata_profiling\\model\\correlations.py:66: UserWarning: There was an attempt to calculate the auto correlation, but this failed.\n",
      "To hide this warning, disable the calculation\n",
      "(using `df.profile_report(correlations={\"auto\": {\"calculate\": False}})`\n",
      "If this is problematic for your use case, please report this as an issue:\n",
      "https://github.com/ydataai/ydata-profiling/issues\n",
      "(include the error message: 'could not convert string to float: 'Bradenton'')\n",
      "  warnings.warn(\n"
     ]
    },
    {
     "data": {
      "application/vnd.jupyter.widget-view+json": {
       "model_id": "a8abb535942743bdab10ed8ac5e2d780",
       "version_major": 2,
       "version_minor": 0
      },
      "text/plain": [
       "Generate report structure:   0%|          | 0/1 [00:00<?, ?it/s]"
      ]
     },
     "metadata": {},
     "output_type": "display_data"
    },
    {
     "data": {
      "application/vnd.jupyter.widget-view+json": {
       "model_id": "8dee86b2776045ce9fd344dc0581642d",
       "version_major": 2,
       "version_minor": 0
      },
      "text/plain": [
       "Render widgets:   0%|          | 0/1 [00:00<?, ?it/s]"
      ]
     },
     "metadata": {},
     "output_type": "display_data"
    },
    {
     "data": {
      "application/vnd.jupyter.widget-view+json": {
       "model_id": "388936d951834dd19e8f045cc59ed8a7",
       "version_major": 2,
       "version_minor": 0
      },
      "text/plain": [
       "VBox(children=(Tab(children=(Tab(children=(GridBox(children=(VBox(children=(GridspecLayout(children=(HTML(valu…"
      ]
     },
     "metadata": {},
     "output_type": "display_data"
    }
   ],
   "source": [
    "sales_people_profiling.to_widgets()"
   ]
  },
  {
   "cell_type": "markdown",
   "metadata": {},
   "source": [
    "## Create Profiling Report"
   ]
  },
  {
   "cell_type": "code",
   "execution_count": 14,
   "metadata": {},
   "outputs": [],
   "source": [
    "def create_profiling_report(df:pd.DataFrame) -> pd.DataFrame:\n",
    "    # create columns list\n",
    "    columns_list = df.columns.to_list()\n",
    "    #create placeholders\n",
    "    attributes_list = []\n",
    "    missed_prc_list = []\n",
    "    nullable_list = []\n",
    "    unique_list = []\n",
    "    occupancy_list = []\n",
    "    distinct_list = []\n",
    "    max_list = []\n",
    "    min_list = []\n",
    "    avg_list = []\n",
    "    length_list = []\n",
    "    case_sens_list = []\n",
    "    example_list = []\n",
    "    dtype_list = []\n",
    "\n",
    "    for col in columns_list:\n",
    "        #replace null to None\n",
    "        df[col] = df[col].map(lambda x: None if str(x) == 'null' else x)\n",
    "\n",
    "        #add attribute to list\n",
    "        attributes_list.append(col)\n",
    "\n",
    "        #calculate nullables values\n",
    "        total_nullable = df[col].isnull().sum()\n",
    "\n",
    "        #calculate total values\n",
    "        total_values = len(df[col])\n",
    "\n",
    "        #calculate missed values\n",
    "        missed_values = round((total_nullable * 100 / total_values),2)\n",
    "        missed_prc_list.append(str(missed_values)+\"%\")\n",
    "            \n",
    "        #define nullable fields\n",
    "        if missed_values != 0.0:\n",
    "            nullable = \"yes\"\n",
    "        else:\n",
    "            nullable = \"no\"\n",
    "        nullable_list.append(nullable)\n",
    "\n",
    "        #define total distinct values\n",
    "        distinct = round(len(df.loc[~df[col].isnull(), col].unique()) * 100/ len(df[col]),2)\n",
    "        distinct_list.append(str(distinct) + \"%\")\n",
    "\n",
    "        #define uniqueness\n",
    "        if distinct != 100.0:\n",
    "            unique = \"no\"\n",
    "        else:\n",
    "            unique = \"yes\"\n",
    "        unique_list.append(unique)\n",
    "\n",
    "        #define occupancy rate\n",
    "        occupancy = round(100 - missed_values, 2)\n",
    "        occupancy_list.append(str(occupancy)+\"%\")\n",
    "\n",
    "        #define max, min, average values\n",
    "        if np.dtype(df[col]) != 'object':\n",
    "            max_value = df[col].max()\n",
    "            min_value = df[col].min()\n",
    "            if  np.dtype(df[col]) != \"M8[ns]\":\n",
    "                avg_value = round(df[col].mean(),2)\n",
    "            else:\n",
    "                avg_value = \"n/a\"\n",
    "        else:\n",
    "            max_value = \"n/a\"\n",
    "            min_value = \"n/a\"\n",
    "            avg_value = \"n/a\"\n",
    "        max_list.append(max_value)\n",
    "        min_list.append(min_value)\n",
    "        avg_list.append(avg_value)\n",
    "\n",
    "        #define case sensitive columns\n",
    "        case_list = [] \n",
    "        if np.dtype(df[col]) == 'object':\n",
    "            for val in df[col]:\n",
    "                if str(val).isdigit() == False and len(str(val)) >= 1:\n",
    "                    if str(val)[0].isupper():\n",
    "                        case_s = \"no\"\n",
    "                    for i in range(1, len(str(val))):\n",
    "                        if str(val)[i].islower():\n",
    "                            case_s = \"yes\"\n",
    "                        break\n",
    "                    else:\n",
    "                        case_s = \"no\"\n",
    "                    for i in range(1, len(str(val))):\n",
    "                        if str(val)[i].isupper():\n",
    "                            case_s = \"yes\"\n",
    "                        break\n",
    "                else:\n",
    "                    case_s = \"n/a\"\n",
    "                    break\n",
    "                case_list.append(case_s)\n",
    "                if case_list.count(\"no\") == len(df):\n",
    "                    case_sens = \"no\"\n",
    "                elif case_list.count(\"n/a\") == len(df):\n",
    "                    case_sens = \"n/a\"\n",
    "                else:\n",
    "                    case_sens = \"yes\"\n",
    "        else:\n",
    "            case_sens = \"n/a\"\n",
    "        case_sens_list.append(case_sens)\n",
    "\n",
    "        #define length\n",
    "        if np.dtype(df[col]) == 'object':\n",
    "            new_length = [str(i) for i in df[col]]\n",
    "            new_length.sort(reverse=True, key=len)\n",
    "            length = len(str(new_length[0]))\n",
    "        else:\n",
    "            length = len(str(df[col].max()))\n",
    "        length_list.append(length)\n",
    "\n",
    "        #data example\n",
    "        if len(df.loc[~df[col].isnull(), col].to_list()) > 0:\n",
    "            example_list.append(df.loc[~df[col].isnull(), col].to_list()[0])\n",
    "        else:\n",
    "            example_list.append(df[col].to_list()[0])\n",
    "    \n",
    "        #define data \n",
    "        if np.dtype(df[col]) == 'object':\n",
    "            dtype_list.append(\"string\")\n",
    "        else:\n",
    "            dtype_list.append(str(np.dtype(df[col])))\n",
    "\n",
    "\n",
    "    data_profiling = pd.DataFrame({\n",
    "        \"Attribute\" : attributes_list,\n",
    "        \"Missed values, %\" : missed_prc_list,\n",
    "        \"Nullable\" : nullable_list,\n",
    "        \"Unique value\" : unique_list,\n",
    "        \"Expected datatype\" : dtype_list,\n",
    "        \"Occupancy rating\" : occupancy_list,\n",
    "        \"Distinct %\" : distinct_list,\n",
    "        \"Max value\" : max_list,\n",
    "        \"Min value\" : min_list,\n",
    "        \"Average value (Mean)\" : avg_list,\n",
    "        \"Length\" : length_list,\n",
    "        \"Case sensitive\" : case_sens_list,\n",
    "        \"Example\" : example_list\n",
    "    })\n",
    "\n",
    "    return data_profiling"
   ]
  },
  {
   "cell_type": "code",
   "execution_count": 15,
   "metadata": {},
   "outputs": [],
   "source": [
    "# calls table profiling report\n",
    "calls_profiling_report = create_profiling_report(calls_df)\n",
    "calls_profiling_report['Table'] = 'Calls'\n",
    "\n",
    "# customer table profiling report\n",
    "customer_profiling_report = create_profiling_report(customer_df)\n",
    "customer_profiling_report['Table'] = 'Customer'\n",
    "\n",
    "# sales people profiling report\n",
    "sales_people_profiling_report = create_profiling_report(sales_people_df)\n",
    "sales_people_profiling_report['Table'] = 'Sales_People'\n"
   ]
  },
  {
   "cell_type": "code",
   "execution_count": 16,
   "metadata": {},
   "outputs": [
    {
     "data": {
      "text/html": [
       "<div>\n",
       "<style scoped>\n",
       "    .dataframe tbody tr th:only-of-type {\n",
       "        vertical-align: middle;\n",
       "    }\n",
       "\n",
       "    .dataframe tbody tr th {\n",
       "        vertical-align: top;\n",
       "    }\n",
       "\n",
       "    .dataframe thead th {\n",
       "        text-align: right;\n",
       "    }\n",
       "</style>\n",
       "<table border=\"1\" class=\"dataframe\">\n",
       "  <thead>\n",
       "    <tr style=\"text-align: right;\">\n",
       "      <th></th>\n",
       "      <th>Attribute</th>\n",
       "      <th>Missed values, %</th>\n",
       "      <th>Nullable</th>\n",
       "      <th>Unique value</th>\n",
       "      <th>Expected datatype</th>\n",
       "      <th>Occupancy rating</th>\n",
       "      <th>Distinct %</th>\n",
       "      <th>Max value</th>\n",
       "      <th>Min value</th>\n",
       "      <th>Average value (Mean)</th>\n",
       "      <th>Length</th>\n",
       "      <th>Case sensitive</th>\n",
       "      <th>Example</th>\n",
       "      <th>Table</th>\n",
       "    </tr>\n",
       "  </thead>\n",
       "  <tbody>\n",
       "    <tr>\n",
       "      <th>0</th>\n",
       "      <td>Sales_Person_ID</td>\n",
       "      <td>0.0%</td>\n",
       "      <td>no</td>\n",
       "      <td>yes</td>\n",
       "      <td>int64</td>\n",
       "      <td>100.0%</td>\n",
       "      <td>100.0%</td>\n",
       "      <td>150</td>\n",
       "      <td>1</td>\n",
       "      <td>75.5</td>\n",
       "      <td>3</td>\n",
       "      <td>n/a</td>\n",
       "      <td>1</td>\n",
       "      <td>Sales_People</td>\n",
       "    </tr>\n",
       "    <tr>\n",
       "      <th>1</th>\n",
       "      <td>Sales_Person_Name</td>\n",
       "      <td>0.0%</td>\n",
       "      <td>no</td>\n",
       "      <td>no</td>\n",
       "      <td>string</td>\n",
       "      <td>100.0%</td>\n",
       "      <td>96.67%</td>\n",
       "      <td>n/a</td>\n",
       "      <td>n/a</td>\n",
       "      <td>n/a</td>\n",
       "      <td>21</td>\n",
       "      <td>yes</td>\n",
       "      <td>Pam Callahan</td>\n",
       "      <td>Sales_People</td>\n",
       "    </tr>\n",
       "    <tr>\n",
       "      <th>2</th>\n",
       "      <td>Sales_Person_Country</td>\n",
       "      <td>0.0%</td>\n",
       "      <td>no</td>\n",
       "      <td>no</td>\n",
       "      <td>string</td>\n",
       "      <td>100.0%</td>\n",
       "      <td>4.67%</td>\n",
       "      <td>n/a</td>\n",
       "      <td>n/a</td>\n",
       "      <td>n/a</td>\n",
       "      <td>13</td>\n",
       "      <td>yes</td>\n",
       "      <td>United States</td>\n",
       "      <td>Sales_People</td>\n",
       "    </tr>\n",
       "    <tr>\n",
       "      <th>3</th>\n",
       "      <td>Sales_Person_City</td>\n",
       "      <td>25.33%</td>\n",
       "      <td>yes</td>\n",
       "      <td>no</td>\n",
       "      <td>string</td>\n",
       "      <td>74.67%</td>\n",
       "      <td>13.33%</td>\n",
       "      <td>n/a</td>\n",
       "      <td>n/a</td>\n",
       "      <td>n/a</td>\n",
       "      <td>18</td>\n",
       "      <td>yes</td>\n",
       "      <td>Bradenton</td>\n",
       "      <td>Sales_People</td>\n",
       "    </tr>\n",
       "    <tr>\n",
       "      <th>4</th>\n",
       "      <td>Sales_Person_Address</td>\n",
       "      <td>23.33%</td>\n",
       "      <td>yes</td>\n",
       "      <td>no</td>\n",
       "      <td>string</td>\n",
       "      <td>76.67%</td>\n",
       "      <td>66.67%</td>\n",
       "      <td>n/a</td>\n",
       "      <td>n/a</td>\n",
       "      <td>n/a</td>\n",
       "      <td>34</td>\n",
       "      <td>yes</td>\n",
       "      <td>2355 WEST MAIN STREET</td>\n",
       "      <td>Sales_People</td>\n",
       "    </tr>\n",
       "  </tbody>\n",
       "</table>\n",
       "</div>"
      ],
      "text/plain": [
       "              Attribute Missed values, % Nullable Unique value  \\\n",
       "0       Sales_Person_ID             0.0%       no          yes   \n",
       "1     Sales_Person_Name             0.0%       no           no   \n",
       "2  Sales_Person_Country             0.0%       no           no   \n",
       "3     Sales_Person_City           25.33%      yes           no   \n",
       "4  Sales_Person_Address           23.33%      yes           no   \n",
       "\n",
       "  Expected datatype Occupancy rating Distinct % Max value Min value  \\\n",
       "0             int64           100.0%     100.0%       150         1   \n",
       "1            string           100.0%     96.67%       n/a       n/a   \n",
       "2            string           100.0%      4.67%       n/a       n/a   \n",
       "3            string           74.67%     13.33%       n/a       n/a   \n",
       "4            string           76.67%     66.67%       n/a       n/a   \n",
       "\n",
       "  Average value (Mean)  Length Case sensitive                Example  \\\n",
       "0                 75.5       3            n/a                      1   \n",
       "1                  n/a      21            yes           Pam Callahan   \n",
       "2                  n/a      13            yes          United States   \n",
       "3                  n/a      18            yes              Bradenton   \n",
       "4                  n/a      34            yes  2355 WEST MAIN STREET   \n",
       "\n",
       "          Table  \n",
       "0  Sales_People  \n",
       "1  Sales_People  \n",
       "2  Sales_People  \n",
       "3  Sales_People  \n",
       "4  Sales_People  "
      ]
     },
     "execution_count": 16,
     "metadata": {},
     "output_type": "execute_result"
    }
   ],
   "source": [
    "# sales people profiling report sample\n",
    "sales_people_profiling_report"
   ]
  },
  {
   "cell_type": "code",
   "execution_count": 17,
   "metadata": {},
   "outputs": [
    {
     "data": {
      "text/html": [
       "<div>\n",
       "<style scoped>\n",
       "    .dataframe tbody tr th:only-of-type {\n",
       "        vertical-align: middle;\n",
       "    }\n",
       "\n",
       "    .dataframe tbody tr th {\n",
       "        vertical-align: top;\n",
       "    }\n",
       "\n",
       "    .dataframe thead th {\n",
       "        text-align: right;\n",
       "    }\n",
       "</style>\n",
       "<table border=\"1\" class=\"dataframe\">\n",
       "  <thead>\n",
       "    <tr style=\"text-align: right;\">\n",
       "      <th></th>\n",
       "      <th>Attribute</th>\n",
       "      <th>Missed values, %</th>\n",
       "      <th>Nullable</th>\n",
       "      <th>Unique value</th>\n",
       "      <th>Expected datatype</th>\n",
       "      <th>Occupancy rating</th>\n",
       "      <th>Distinct %</th>\n",
       "      <th>Max value</th>\n",
       "      <th>Min value</th>\n",
       "      <th>Average value (Mean)</th>\n",
       "      <th>Length</th>\n",
       "      <th>Case sensitive</th>\n",
       "      <th>Example</th>\n",
       "      <th>Table</th>\n",
       "    </tr>\n",
       "  </thead>\n",
       "  <tbody>\n",
       "    <tr>\n",
       "      <th>0</th>\n",
       "      <td>Sales_Person_ID</td>\n",
       "      <td>0.0%</td>\n",
       "      <td>no</td>\n",
       "      <td>no</td>\n",
       "      <td>int64</td>\n",
       "      <td>100.0%</td>\n",
       "      <td>3.38%</td>\n",
       "      <td>150</td>\n",
       "      <td>1</td>\n",
       "      <td>74.9</td>\n",
       "      <td>3</td>\n",
       "      <td>n/a</td>\n",
       "      <td>94</td>\n",
       "      <td>Calls</td>\n",
       "    </tr>\n",
       "    <tr>\n",
       "      <th>1</th>\n",
       "      <td>Customer_ID</td>\n",
       "      <td>0.0%</td>\n",
       "      <td>no</td>\n",
       "      <td>no</td>\n",
       "      <td>int64</td>\n",
       "      <td>100.0%</td>\n",
       "      <td>21.33%</td>\n",
       "      <td>956</td>\n",
       "      <td>1</td>\n",
       "      <td>477.79</td>\n",
       "      <td>3</td>\n",
       "      <td>n/a</td>\n",
       "      <td>75</td>\n",
       "      <td>Calls</td>\n",
       "    </tr>\n",
       "    <tr>\n",
       "      <th>2</th>\n",
       "      <td>Call_Date_UTC</td>\n",
       "      <td>0.0%</td>\n",
       "      <td>no</td>\n",
       "      <td>no</td>\n",
       "      <td>datetime64[ns]</td>\n",
       "      <td>100.0%</td>\n",
       "      <td>99.89%</td>\n",
       "      <td>2021-08-31 23:59:07</td>\n",
       "      <td>1921-08-12 12:38:13</td>\n",
       "      <td>n/a</td>\n",
       "      <td>19</td>\n",
       "      <td>n/a</td>\n",
       "      <td>2021-08-29 03:01:25</td>\n",
       "      <td>Calls</td>\n",
       "    </tr>\n",
       "    <tr>\n",
       "      <th>3</th>\n",
       "      <td>Call_Duration_Sec</td>\n",
       "      <td>0.0%</td>\n",
       "      <td>no</td>\n",
       "      <td>no</td>\n",
       "      <td>int64</td>\n",
       "      <td>100.0%</td>\n",
       "      <td>13.39%</td>\n",
       "      <td>598</td>\n",
       "      <td>0</td>\n",
       "      <td>297.21</td>\n",
       "      <td>3</td>\n",
       "      <td>n/a</td>\n",
       "      <td>568</td>\n",
       "      <td>Calls</td>\n",
       "    </tr>\n",
       "  </tbody>\n",
       "</table>\n",
       "</div>"
      ],
      "text/plain": [
       "           Attribute Missed values, % Nullable Unique value Expected datatype  \\\n",
       "0    Sales_Person_ID             0.0%       no           no             int64   \n",
       "1        Customer_ID             0.0%       no           no             int64   \n",
       "2      Call_Date_UTC             0.0%       no           no    datetime64[ns]   \n",
       "3  Call_Duration_Sec             0.0%       no           no             int64   \n",
       "\n",
       "  Occupancy rating Distinct %            Max value            Min value  \\\n",
       "0           100.0%      3.38%                  150                    1   \n",
       "1           100.0%     21.33%                  956                    1   \n",
       "2           100.0%     99.89%  2021-08-31 23:59:07  1921-08-12 12:38:13   \n",
       "3           100.0%     13.39%                  598                    0   \n",
       "\n",
       "  Average value (Mean)  Length Case sensitive              Example  Table  \n",
       "0                 74.9       3            n/a                   94  Calls  \n",
       "1               477.79       3            n/a                   75  Calls  \n",
       "2                  n/a      19            n/a  2021-08-29 03:01:25  Calls  \n",
       "3               297.21       3            n/a                  568  Calls  "
      ]
     },
     "execution_count": 17,
     "metadata": {},
     "output_type": "execute_result"
    }
   ],
   "source": [
    "# calls profiling report sample\n",
    "calls_profiling_report"
   ]
  },
  {
   "cell_type": "code",
   "execution_count": 18,
   "metadata": {},
   "outputs": [
    {
     "data": {
      "text/html": [
       "<div>\n",
       "<style scoped>\n",
       "    .dataframe tbody tr th:only-of-type {\n",
       "        vertical-align: middle;\n",
       "    }\n",
       "\n",
       "    .dataframe tbody tr th {\n",
       "        vertical-align: top;\n",
       "    }\n",
       "\n",
       "    .dataframe thead th {\n",
       "        text-align: right;\n",
       "    }\n",
       "</style>\n",
       "<table border=\"1\" class=\"dataframe\">\n",
       "  <thead>\n",
       "    <tr style=\"text-align: right;\">\n",
       "      <th></th>\n",
       "      <th>Attribute</th>\n",
       "      <th>Missed values, %</th>\n",
       "      <th>Nullable</th>\n",
       "      <th>Unique value</th>\n",
       "      <th>Expected datatype</th>\n",
       "      <th>Occupancy rating</th>\n",
       "      <th>Distinct %</th>\n",
       "      <th>Max value</th>\n",
       "      <th>Min value</th>\n",
       "      <th>Average value (Mean)</th>\n",
       "      <th>Length</th>\n",
       "      <th>Case sensitive</th>\n",
       "      <th>Example</th>\n",
       "      <th>Table</th>\n",
       "    </tr>\n",
       "  </thead>\n",
       "  <tbody>\n",
       "    <tr>\n",
       "      <th>0</th>\n",
       "      <td>Customer_ID</td>\n",
       "      <td>0.0%</td>\n",
       "      <td>no</td>\n",
       "      <td>yes</td>\n",
       "      <td>int64</td>\n",
       "      <td>100.0%</td>\n",
       "      <td>100.0%</td>\n",
       "      <td>1228</td>\n",
       "      <td>1</td>\n",
       "      <td>614.5</td>\n",
       "      <td>4</td>\n",
       "      <td>n/a</td>\n",
       "      <td>1</td>\n",
       "      <td>Customer</td>\n",
       "    </tr>\n",
       "    <tr>\n",
       "      <th>1</th>\n",
       "      <td>Customer_Category</td>\n",
       "      <td>15.8%</td>\n",
       "      <td>yes</td>\n",
       "      <td>no</td>\n",
       "      <td>string</td>\n",
       "      <td>84.2%</td>\n",
       "      <td>0.57%</td>\n",
       "      <td>n/a</td>\n",
       "      <td>n/a</td>\n",
       "      <td>n/a</td>\n",
       "      <td>6</td>\n",
       "      <td>yes</td>\n",
       "      <td>Large</td>\n",
       "      <td>Customer</td>\n",
       "    </tr>\n",
       "    <tr>\n",
       "      <th>2</th>\n",
       "      <td>Customer_Name</td>\n",
       "      <td>0.65%</td>\n",
       "      <td>yes</td>\n",
       "      <td>no</td>\n",
       "      <td>string</td>\n",
       "      <td>99.35%</td>\n",
       "      <td>79.4%</td>\n",
       "      <td>n/a</td>\n",
       "      <td>n/a</td>\n",
       "      <td>n/a</td>\n",
       "      <td>94</td>\n",
       "      <td>yes</td>\n",
       "      <td>MOWRY MEDICAL PHARMACY</td>\n",
       "      <td>Customer</td>\n",
       "    </tr>\n",
       "    <tr>\n",
       "      <th>3</th>\n",
       "      <td>Customer_Phone</td>\n",
       "      <td>24.35%</td>\n",
       "      <td>yes</td>\n",
       "      <td>no</td>\n",
       "      <td>string</td>\n",
       "      <td>75.65%</td>\n",
       "      <td>71.01%</td>\n",
       "      <td>n/a</td>\n",
       "      <td>n/a</td>\n",
       "      <td>n/a</td>\n",
       "      <td>14</td>\n",
       "      <td>yes</td>\n",
       "      <td>510-793-5011</td>\n",
       "      <td>Customer</td>\n",
       "    </tr>\n",
       "    <tr>\n",
       "      <th>4</th>\n",
       "      <td>Customer_Address</td>\n",
       "      <td>8.14%</td>\n",
       "      <td>yes</td>\n",
       "      <td>no</td>\n",
       "      <td>string</td>\n",
       "      <td>91.86%</td>\n",
       "      <td>91.21%</td>\n",
       "      <td>n/a</td>\n",
       "      <td>n/a</td>\n",
       "      <td>n/a</td>\n",
       "      <td>39</td>\n",
       "      <td>yes</td>\n",
       "      <td>1999 MOWRY AVENUE</td>\n",
       "      <td>Customer</td>\n",
       "    </tr>\n",
       "    <tr>\n",
       "      <th>5</th>\n",
       "      <td>Customer_City</td>\n",
       "      <td>17.18%</td>\n",
       "      <td>yes</td>\n",
       "      <td>no</td>\n",
       "      <td>string</td>\n",
       "      <td>82.82%</td>\n",
       "      <td>2.36%</td>\n",
       "      <td>n/a</td>\n",
       "      <td>n/a</td>\n",
       "      <td>n/a</td>\n",
       "      <td>14</td>\n",
       "      <td>yes</td>\n",
       "      <td>LODI</td>\n",
       "      <td>Customer</td>\n",
       "    </tr>\n",
       "    <tr>\n",
       "      <th>6</th>\n",
       "      <td>Date_of_Agreement</td>\n",
       "      <td>76.79%</td>\n",
       "      <td>yes</td>\n",
       "      <td>no</td>\n",
       "      <td>string</td>\n",
       "      <td>23.21%</td>\n",
       "      <td>7.25%</td>\n",
       "      <td>n/a</td>\n",
       "      <td>n/a</td>\n",
       "      <td>n/a</td>\n",
       "      <td>19</td>\n",
       "      <td>yes</td>\n",
       "      <td>2021-09-01 00:00:00</td>\n",
       "      <td>Customer</td>\n",
       "    </tr>\n",
       "  </tbody>\n",
       "</table>\n",
       "</div>"
      ],
      "text/plain": [
       "           Attribute Missed values, % Nullable Unique value Expected datatype  \\\n",
       "0        Customer_ID             0.0%       no          yes             int64   \n",
       "1  Customer_Category            15.8%      yes           no            string   \n",
       "2      Customer_Name            0.65%      yes           no            string   \n",
       "3     Customer_Phone           24.35%      yes           no            string   \n",
       "4   Customer_Address            8.14%      yes           no            string   \n",
       "5      Customer_City           17.18%      yes           no            string   \n",
       "6  Date_of_Agreement           76.79%      yes           no            string   \n",
       "\n",
       "  Occupancy rating Distinct % Max value Min value Average value (Mean)  \\\n",
       "0           100.0%     100.0%      1228         1                614.5   \n",
       "1            84.2%      0.57%       n/a       n/a                  n/a   \n",
       "2           99.35%      79.4%       n/a       n/a                  n/a   \n",
       "3           75.65%     71.01%       n/a       n/a                  n/a   \n",
       "4           91.86%     91.21%       n/a       n/a                  n/a   \n",
       "5           82.82%      2.36%       n/a       n/a                  n/a   \n",
       "6           23.21%      7.25%       n/a       n/a                  n/a   \n",
       "\n",
       "   Length Case sensitive                 Example     Table  \n",
       "0       4            n/a                       1  Customer  \n",
       "1       6            yes                   Large  Customer  \n",
       "2      94            yes  MOWRY MEDICAL PHARMACY  Customer  \n",
       "3      14            yes            510-793-5011  Customer  \n",
       "4      39            yes       1999 MOWRY AVENUE  Customer  \n",
       "5      14            yes                    LODI  Customer  \n",
       "6      19            yes     2021-09-01 00:00:00  Customer  "
      ]
     },
     "execution_count": 18,
     "metadata": {},
     "output_type": "execute_result"
    }
   ],
   "source": [
    "# customer profiling report sample\n",
    "customer_profiling_report"
   ]
  },
  {
   "cell_type": "code",
   "execution_count": 19,
   "metadata": {},
   "outputs": [],
   "source": [
    "#merge tables\n",
    "combined_report = pd.concat([calls_profiling_report, customer_profiling_report, sales_people_profiling_report], ignore_index=True)"
   ]
  },
  {
   "cell_type": "code",
   "execution_count": 20,
   "metadata": {},
   "outputs": [],
   "source": [
    "# reorder columns\n",
    "combined_report = combined_report[[\n",
    "    'Table'\n",
    "    , 'Attribute'\n",
    "    , 'Missed values, %'\n",
    "    , 'Nullable'\n",
    "    , 'Unique value'\n",
    "    , 'Expected datatype'\n",
    "    , 'Occupancy rating'\n",
    "    , 'Distinct %'\n",
    "    , 'Max value'\n",
    "    , 'Min value'\n",
    "    , 'Average value (Mean)'\n",
    "    , 'Length'\n",
    "    , 'Case sensitive'\n",
    "    , 'Example'\n",
    "    ]]"
   ]
  },
  {
   "cell_type": "code",
   "execution_count": 21,
   "metadata": {},
   "outputs": [
    {
     "data": {
      "text/html": [
       "<div>\n",
       "<style scoped>\n",
       "    .dataframe tbody tr th:only-of-type {\n",
       "        vertical-align: middle;\n",
       "    }\n",
       "\n",
       "    .dataframe tbody tr th {\n",
       "        vertical-align: top;\n",
       "    }\n",
       "\n",
       "    .dataframe thead th {\n",
       "        text-align: right;\n",
       "    }\n",
       "</style>\n",
       "<table border=\"1\" class=\"dataframe\">\n",
       "  <thead>\n",
       "    <tr style=\"text-align: right;\">\n",
       "      <th></th>\n",
       "      <th>Table</th>\n",
       "      <th>Attribute</th>\n",
       "      <th>Missed values, %</th>\n",
       "      <th>Nullable</th>\n",
       "      <th>Unique value</th>\n",
       "      <th>Expected datatype</th>\n",
       "      <th>Occupancy rating</th>\n",
       "      <th>Distinct %</th>\n",
       "      <th>Max value</th>\n",
       "      <th>Min value</th>\n",
       "      <th>Average value (Mean)</th>\n",
       "      <th>Length</th>\n",
       "      <th>Case sensitive</th>\n",
       "      <th>Example</th>\n",
       "    </tr>\n",
       "  </thead>\n",
       "  <tbody>\n",
       "    <tr>\n",
       "      <th>0</th>\n",
       "      <td>Calls</td>\n",
       "      <td>Sales_Person_ID</td>\n",
       "      <td>0.0%</td>\n",
       "      <td>no</td>\n",
       "      <td>no</td>\n",
       "      <td>int64</td>\n",
       "      <td>100.0%</td>\n",
       "      <td>3.38%</td>\n",
       "      <td>150</td>\n",
       "      <td>1</td>\n",
       "      <td>74.9</td>\n",
       "      <td>3</td>\n",
       "      <td>n/a</td>\n",
       "      <td>94</td>\n",
       "    </tr>\n",
       "    <tr>\n",
       "      <th>1</th>\n",
       "      <td>Calls</td>\n",
       "      <td>Customer_ID</td>\n",
       "      <td>0.0%</td>\n",
       "      <td>no</td>\n",
       "      <td>no</td>\n",
       "      <td>int64</td>\n",
       "      <td>100.0%</td>\n",
       "      <td>21.33%</td>\n",
       "      <td>956</td>\n",
       "      <td>1</td>\n",
       "      <td>477.79</td>\n",
       "      <td>3</td>\n",
       "      <td>n/a</td>\n",
       "      <td>75</td>\n",
       "    </tr>\n",
       "    <tr>\n",
       "      <th>2</th>\n",
       "      <td>Calls</td>\n",
       "      <td>Call_Date_UTC</td>\n",
       "      <td>0.0%</td>\n",
       "      <td>no</td>\n",
       "      <td>no</td>\n",
       "      <td>datetime64[ns]</td>\n",
       "      <td>100.0%</td>\n",
       "      <td>99.89%</td>\n",
       "      <td>2021-08-31 23:59:07</td>\n",
       "      <td>1921-08-12 12:38:13</td>\n",
       "      <td>n/a</td>\n",
       "      <td>19</td>\n",
       "      <td>n/a</td>\n",
       "      <td>2021-08-29 03:01:25</td>\n",
       "    </tr>\n",
       "    <tr>\n",
       "      <th>3</th>\n",
       "      <td>Calls</td>\n",
       "      <td>Call_Duration_Sec</td>\n",
       "      <td>0.0%</td>\n",
       "      <td>no</td>\n",
       "      <td>no</td>\n",
       "      <td>int64</td>\n",
       "      <td>100.0%</td>\n",
       "      <td>13.39%</td>\n",
       "      <td>598</td>\n",
       "      <td>0</td>\n",
       "      <td>297.21</td>\n",
       "      <td>3</td>\n",
       "      <td>n/a</td>\n",
       "      <td>568</td>\n",
       "    </tr>\n",
       "    <tr>\n",
       "      <th>4</th>\n",
       "      <td>Customer</td>\n",
       "      <td>Customer_ID</td>\n",
       "      <td>0.0%</td>\n",
       "      <td>no</td>\n",
       "      <td>yes</td>\n",
       "      <td>int64</td>\n",
       "      <td>100.0%</td>\n",
       "      <td>100.0%</td>\n",
       "      <td>1228</td>\n",
       "      <td>1</td>\n",
       "      <td>614.5</td>\n",
       "      <td>4</td>\n",
       "      <td>n/a</td>\n",
       "      <td>1</td>\n",
       "    </tr>\n",
       "    <tr>\n",
       "      <th>5</th>\n",
       "      <td>Customer</td>\n",
       "      <td>Customer_Category</td>\n",
       "      <td>15.8%</td>\n",
       "      <td>yes</td>\n",
       "      <td>no</td>\n",
       "      <td>string</td>\n",
       "      <td>84.2%</td>\n",
       "      <td>0.57%</td>\n",
       "      <td>n/a</td>\n",
       "      <td>n/a</td>\n",
       "      <td>n/a</td>\n",
       "      <td>6</td>\n",
       "      <td>yes</td>\n",
       "      <td>Large</td>\n",
       "    </tr>\n",
       "    <tr>\n",
       "      <th>6</th>\n",
       "      <td>Customer</td>\n",
       "      <td>Customer_Name</td>\n",
       "      <td>0.65%</td>\n",
       "      <td>yes</td>\n",
       "      <td>no</td>\n",
       "      <td>string</td>\n",
       "      <td>99.35%</td>\n",
       "      <td>79.4%</td>\n",
       "      <td>n/a</td>\n",
       "      <td>n/a</td>\n",
       "      <td>n/a</td>\n",
       "      <td>94</td>\n",
       "      <td>yes</td>\n",
       "      <td>MOWRY MEDICAL PHARMACY</td>\n",
       "    </tr>\n",
       "    <tr>\n",
       "      <th>7</th>\n",
       "      <td>Customer</td>\n",
       "      <td>Customer_Phone</td>\n",
       "      <td>24.35%</td>\n",
       "      <td>yes</td>\n",
       "      <td>no</td>\n",
       "      <td>string</td>\n",
       "      <td>75.65%</td>\n",
       "      <td>71.01%</td>\n",
       "      <td>n/a</td>\n",
       "      <td>n/a</td>\n",
       "      <td>n/a</td>\n",
       "      <td>14</td>\n",
       "      <td>yes</td>\n",
       "      <td>510-793-5011</td>\n",
       "    </tr>\n",
       "    <tr>\n",
       "      <th>8</th>\n",
       "      <td>Customer</td>\n",
       "      <td>Customer_Address</td>\n",
       "      <td>8.14%</td>\n",
       "      <td>yes</td>\n",
       "      <td>no</td>\n",
       "      <td>string</td>\n",
       "      <td>91.86%</td>\n",
       "      <td>91.21%</td>\n",
       "      <td>n/a</td>\n",
       "      <td>n/a</td>\n",
       "      <td>n/a</td>\n",
       "      <td>39</td>\n",
       "      <td>yes</td>\n",
       "      <td>1999 MOWRY AVENUE</td>\n",
       "    </tr>\n",
       "    <tr>\n",
       "      <th>9</th>\n",
       "      <td>Customer</td>\n",
       "      <td>Customer_City</td>\n",
       "      <td>17.18%</td>\n",
       "      <td>yes</td>\n",
       "      <td>no</td>\n",
       "      <td>string</td>\n",
       "      <td>82.82%</td>\n",
       "      <td>2.36%</td>\n",
       "      <td>n/a</td>\n",
       "      <td>n/a</td>\n",
       "      <td>n/a</td>\n",
       "      <td>14</td>\n",
       "      <td>yes</td>\n",
       "      <td>LODI</td>\n",
       "    </tr>\n",
       "    <tr>\n",
       "      <th>10</th>\n",
       "      <td>Customer</td>\n",
       "      <td>Date_of_Agreement</td>\n",
       "      <td>76.79%</td>\n",
       "      <td>yes</td>\n",
       "      <td>no</td>\n",
       "      <td>string</td>\n",
       "      <td>23.21%</td>\n",
       "      <td>7.25%</td>\n",
       "      <td>n/a</td>\n",
       "      <td>n/a</td>\n",
       "      <td>n/a</td>\n",
       "      <td>19</td>\n",
       "      <td>yes</td>\n",
       "      <td>2021-09-01 00:00:00</td>\n",
       "    </tr>\n",
       "    <tr>\n",
       "      <th>11</th>\n",
       "      <td>Sales_People</td>\n",
       "      <td>Sales_Person_ID</td>\n",
       "      <td>0.0%</td>\n",
       "      <td>no</td>\n",
       "      <td>yes</td>\n",
       "      <td>int64</td>\n",
       "      <td>100.0%</td>\n",
       "      <td>100.0%</td>\n",
       "      <td>150</td>\n",
       "      <td>1</td>\n",
       "      <td>75.5</td>\n",
       "      <td>3</td>\n",
       "      <td>n/a</td>\n",
       "      <td>1</td>\n",
       "    </tr>\n",
       "    <tr>\n",
       "      <th>12</th>\n",
       "      <td>Sales_People</td>\n",
       "      <td>Sales_Person_Name</td>\n",
       "      <td>0.0%</td>\n",
       "      <td>no</td>\n",
       "      <td>no</td>\n",
       "      <td>string</td>\n",
       "      <td>100.0%</td>\n",
       "      <td>96.67%</td>\n",
       "      <td>n/a</td>\n",
       "      <td>n/a</td>\n",
       "      <td>n/a</td>\n",
       "      <td>21</td>\n",
       "      <td>yes</td>\n",
       "      <td>Pam Callahan</td>\n",
       "    </tr>\n",
       "    <tr>\n",
       "      <th>13</th>\n",
       "      <td>Sales_People</td>\n",
       "      <td>Sales_Person_Country</td>\n",
       "      <td>0.0%</td>\n",
       "      <td>no</td>\n",
       "      <td>no</td>\n",
       "      <td>string</td>\n",
       "      <td>100.0%</td>\n",
       "      <td>4.67%</td>\n",
       "      <td>n/a</td>\n",
       "      <td>n/a</td>\n",
       "      <td>n/a</td>\n",
       "      <td>13</td>\n",
       "      <td>yes</td>\n",
       "      <td>United States</td>\n",
       "    </tr>\n",
       "    <tr>\n",
       "      <th>14</th>\n",
       "      <td>Sales_People</td>\n",
       "      <td>Sales_Person_City</td>\n",
       "      <td>25.33%</td>\n",
       "      <td>yes</td>\n",
       "      <td>no</td>\n",
       "      <td>string</td>\n",
       "      <td>74.67%</td>\n",
       "      <td>13.33%</td>\n",
       "      <td>n/a</td>\n",
       "      <td>n/a</td>\n",
       "      <td>n/a</td>\n",
       "      <td>18</td>\n",
       "      <td>yes</td>\n",
       "      <td>Bradenton</td>\n",
       "    </tr>\n",
       "    <tr>\n",
       "      <th>15</th>\n",
       "      <td>Sales_People</td>\n",
       "      <td>Sales_Person_Address</td>\n",
       "      <td>23.33%</td>\n",
       "      <td>yes</td>\n",
       "      <td>no</td>\n",
       "      <td>string</td>\n",
       "      <td>76.67%</td>\n",
       "      <td>66.67%</td>\n",
       "      <td>n/a</td>\n",
       "      <td>n/a</td>\n",
       "      <td>n/a</td>\n",
       "      <td>34</td>\n",
       "      <td>yes</td>\n",
       "      <td>2355 WEST MAIN STREET</td>\n",
       "    </tr>\n",
       "  </tbody>\n",
       "</table>\n",
       "</div>"
      ],
      "text/plain": [
       "           Table             Attribute Missed values, % Nullable Unique value  \\\n",
       "0          Calls       Sales_Person_ID             0.0%       no           no   \n",
       "1          Calls           Customer_ID             0.0%       no           no   \n",
       "2          Calls         Call_Date_UTC             0.0%       no           no   \n",
       "3          Calls     Call_Duration_Sec             0.0%       no           no   \n",
       "4       Customer           Customer_ID             0.0%       no          yes   \n",
       "5       Customer     Customer_Category            15.8%      yes           no   \n",
       "6       Customer         Customer_Name            0.65%      yes           no   \n",
       "7       Customer        Customer_Phone           24.35%      yes           no   \n",
       "8       Customer      Customer_Address            8.14%      yes           no   \n",
       "9       Customer         Customer_City           17.18%      yes           no   \n",
       "10      Customer     Date_of_Agreement           76.79%      yes           no   \n",
       "11  Sales_People       Sales_Person_ID             0.0%       no          yes   \n",
       "12  Sales_People     Sales_Person_Name             0.0%       no           no   \n",
       "13  Sales_People  Sales_Person_Country             0.0%       no           no   \n",
       "14  Sales_People     Sales_Person_City           25.33%      yes           no   \n",
       "15  Sales_People  Sales_Person_Address           23.33%      yes           no   \n",
       "\n",
       "   Expected datatype Occupancy rating Distinct %            Max value  \\\n",
       "0              int64           100.0%      3.38%                  150   \n",
       "1              int64           100.0%     21.33%                  956   \n",
       "2     datetime64[ns]           100.0%     99.89%  2021-08-31 23:59:07   \n",
       "3              int64           100.0%     13.39%                  598   \n",
       "4              int64           100.0%     100.0%                 1228   \n",
       "5             string            84.2%      0.57%                  n/a   \n",
       "6             string           99.35%      79.4%                  n/a   \n",
       "7             string           75.65%     71.01%                  n/a   \n",
       "8             string           91.86%     91.21%                  n/a   \n",
       "9             string           82.82%      2.36%                  n/a   \n",
       "10            string           23.21%      7.25%                  n/a   \n",
       "11             int64           100.0%     100.0%                  150   \n",
       "12            string           100.0%     96.67%                  n/a   \n",
       "13            string           100.0%      4.67%                  n/a   \n",
       "14            string           74.67%     13.33%                  n/a   \n",
       "15            string           76.67%     66.67%                  n/a   \n",
       "\n",
       "              Min value Average value (Mean)  Length Case sensitive  \\\n",
       "0                     1                 74.9       3            n/a   \n",
       "1                     1               477.79       3            n/a   \n",
       "2   1921-08-12 12:38:13                  n/a      19            n/a   \n",
       "3                     0               297.21       3            n/a   \n",
       "4                     1                614.5       4            n/a   \n",
       "5                   n/a                  n/a       6            yes   \n",
       "6                   n/a                  n/a      94            yes   \n",
       "7                   n/a                  n/a      14            yes   \n",
       "8                   n/a                  n/a      39            yes   \n",
       "9                   n/a                  n/a      14            yes   \n",
       "10                  n/a                  n/a      19            yes   \n",
       "11                    1                 75.5       3            n/a   \n",
       "12                  n/a                  n/a      21            yes   \n",
       "13                  n/a                  n/a      13            yes   \n",
       "14                  n/a                  n/a      18            yes   \n",
       "15                  n/a                  n/a      34            yes   \n",
       "\n",
       "                   Example  \n",
       "0                       94  \n",
       "1                       75  \n",
       "2      2021-08-29 03:01:25  \n",
       "3                      568  \n",
       "4                        1  \n",
       "5                    Large  \n",
       "6   MOWRY MEDICAL PHARMACY  \n",
       "7             510-793-5011  \n",
       "8        1999 MOWRY AVENUE  \n",
       "9                     LODI  \n",
       "10     2021-09-01 00:00:00  \n",
       "11                       1  \n",
       "12            Pam Callahan  \n",
       "13           United States  \n",
       "14               Bradenton  \n",
       "15   2355 WEST MAIN STREET  "
      ]
     },
     "execution_count": 21,
     "metadata": {},
     "output_type": "execute_result"
    }
   ],
   "source": [
    "# combined profiling report\n",
    "combined_report"
   ]
  },
  {
   "cell_type": "code",
   "execution_count": 31,
   "metadata": {},
   "outputs": [],
   "source": [
    "# save profiling report\n",
    "combined_report.to_excel('BIA_Practice_M8.xlsx')"
   ]
  },
  {
   "cell_type": "markdown",
   "metadata": {},
   "source": [
    "## Define attributes for calculating KPI"
   ]
  },
  {
   "cell_type": "code",
   "execution_count": 22,
   "metadata": {},
   "outputs": [],
   "source": [
    "# establish connection to duckdb\n",
    "conn = duckdb.connect()"
   ]
  },
  {
   "cell_type": "code",
   "execution_count": 23,
   "metadata": {},
   "outputs": [],
   "source": [
    "#setup jupyter workbook\n",
    "%load_ext sql\n",
    "\n",
    "%sql conn"
   ]
  },
  {
   "cell_type": "code",
   "execution_count": 24,
   "metadata": {},
   "outputs": [],
   "source": [
    "%config SqlMagic.displaylimit = 10"
   ]
  },
  {
   "cell_type": "markdown",
   "metadata": {},
   "source": [
    "### Average time from first contact with a client to signing a deal"
   ]
  },
  {
   "cell_type": "code",
   "execution_count": 25,
   "metadata": {
    "vscode": {
     "languageId": "sql"
    }
   },
   "outputs": [
    {
     "data": {
      "text/html": [
       "<span style=\"None\">Running query in &#x27;DuckDBPyConnection&#x27;</span>"
      ],
      "text/plain": [
       "Running query in 'DuckDBPyConnection'"
      ]
     },
     "metadata": {},
     "output_type": "display_data"
    },
    {
     "data": {
      "text/html": [
       "<table>\n",
       "    <thead>\n",
       "        <tr>\n",
       "            <th>pos_dif</th>\n",
       "        </tr>\n",
       "    </thead>\n",
       "    <tbody>\n",
       "        <tr>\n",
       "            <td>4370.0</td>\n",
       "        </tr>\n",
       "    </tbody>\n",
       "</table>"
      ],
      "text/plain": [
       "+---------+\n",
       "| pos_dif |\n",
       "+---------+\n",
       "|  4370.0 |\n",
       "+---------+"
      ]
     },
     "execution_count": 25,
     "metadata": {},
     "output_type": "execute_result"
    }
   ],
   "source": [
    "%%sql\n",
    "\n",
    "WITH first_call AS (\n",
    "    SELECT \n",
    "        Customer_ID \n",
    "        , MIN(Call_Date_UTC) AS First_Call_Datetime\n",
    "    FROM\n",
    "        calls_df AS cl\n",
    "    GROUP BY \n",
    "        Customer_ID\n",
    "),\n",
    "\n",
    "diff_view AS (\n",
    "    SELECT\n",
    "        c.Customer_ID\n",
    "        , DATE_DIFF('day', First_Call_Datetime, CAST(Date_of_Agreement AS datetime)) AS Day_DIFF\n",
    "    FROM\n",
    "        customer_df AS c\n",
    "    INNER JOIN first_call AS f\n",
    "        ON c.Customer_ID = f.Customer_ID\n",
    "    WHERE\n",
    "        Date_of_Agreement IS NOT NULL\n",
    "        AND Date_of_Agreement NOT IN (SELECT * FROM excluded_df)\n",
    ")\n",
    "\n",
    "SELECT \n",
    "    ROUND(AVG(CASE WHEN Day_DIFF > 0 THEN Day_DIFF END)) AS pos_dif\n",
    "FROM\n",
    "    diff_view"
   ]
  },
  {
   "cell_type": "markdown",
   "metadata": {},
   "source": [
    "### Average number of calls per salesperson with one client, from first contact to signing a deal"
   ]
  },
  {
   "cell_type": "code",
   "execution_count": 48,
   "metadata": {
    "vscode": {
     "languageId": "sql"
    }
   },
   "outputs": [
    {
     "data": {
      "text/html": [
       "<span style=\"None\">Running query in &#x27;DuckDBPyConnection&#x27;</span>"
      ],
      "text/plain": [
       "Running query in 'DuckDBPyConnection'"
      ]
     },
     "metadata": {},
     "output_type": "display_data"
    },
    {
     "data": {
      "text/html": [
       "<table>\n",
       "    <thead>\n",
       "        <tr>\n",
       "            <th>Avg_Calls_Number</th>\n",
       "        </tr>\n",
       "    </thead>\n",
       "    <tbody>\n",
       "        <tr>\n",
       "            <td>4.34</td>\n",
       "        </tr>\n",
       "    </tbody>\n",
       "</table>"
      ],
      "text/plain": [
       "+------------------+\n",
       "| Avg_Calls_Number |\n",
       "+------------------+\n",
       "|       4.34       |\n",
       "+------------------+"
      ]
     },
     "execution_count": 48,
     "metadata": {},
     "output_type": "execute_result"
    }
   ],
   "source": [
    "%%sql\n",
    "\n",
    "WITH signing_customers AS (\n",
    "    SELECT Customer_ID\n",
    "    FROM\n",
    "        customer_df\n",
    "    WHERE\n",
    "        Date_of_Agreement IS NOT NULL\n",
    "        AND Date_of_Agreement NOT IN (SELECT * FROM excluded_df)\n",
    "),\n",
    "\n",
    "calls_per_sales AS (\n",
    "    SELECT \n",
    "        c.Customer_ID\n",
    "        , c.Sales_Person_ID\n",
    "        , COUNT(*) AS total_calls\n",
    "    FROM\n",
    "        signing_customers AS sc\n",
    "    INNER JOIN calls_df AS c\n",
    "        ON sc.Customer_ID = c.Customer_ID\n",
    "    GROUP BY\n",
    "        c.Customer_ID\n",
    "        , c.Sales_Person_ID\n",
    "    ORDER BY  \n",
    "        COUNT(*) DESC\n",
    ")\n",
    "\n",
    "SELECT \n",
    "    ROUND(AVG(total_calls),2) AS Avg_Calls_Number\n",
    "FROM\n",
    "    calls_per_sales\n",
    "\n",
    "\n"
   ]
  },
  {
   "cell_type": "markdown",
   "metadata": {},
   "source": [
    "### Customer coverage (number of customers covered / number of customers in the plan) "
   ]
  },
  {
   "cell_type": "code",
   "execution_count": 57,
   "metadata": {
    "vscode": {
     "languageId": "sql"
    }
   },
   "outputs": [
    {
     "data": {
      "text/html": [
       "<span style=\"None\">Running query in &#x27;DuckDBPyConnection&#x27;</span>"
      ],
      "text/plain": [
       "Running query in 'DuckDBPyConnection'"
      ]
     },
     "metadata": {},
     "output_type": "display_data"
    },
    {
     "data": {
      "text/html": [
       "<table>\n",
       "    <thead>\n",
       "        <tr>\n",
       "            <th>customer_coverage</th>\n",
       "        </tr>\n",
       "    </thead>\n",
       "    <tbody>\n",
       "        <tr>\n",
       "            <td>3.35</td>\n",
       "        </tr>\n",
       "    </tbody>\n",
       "</table>"
      ],
      "text/plain": [
       "+-------------------+\n",
       "| customer_coverage |\n",
       "+-------------------+\n",
       "|        3.35       |\n",
       "+-------------------+"
      ]
     },
     "execution_count": 57,
     "metadata": {},
     "output_type": "execute_result"
    }
   ],
   "source": [
    "%%sql\n",
    "\n",
    "WITH customers_covered AS (\n",
    "    SELECT \n",
    "        COUNT(DISTINCT c.Customer_ID) AS total_covered\n",
    "    FROM\n",
    "        customer_df AS c\n",
    "    INNER JOIN calls_df AS cl\n",
    "        ON c.Customer_ID = cl.Customer_ID\n",
    "),\n",
    "\n",
    "customers_in_plan AS (\n",
    "    SELECT \n",
    "        COUNT(DISTINCT c.Customer_ID) AS total_covered\n",
    "    FROM\n",
    "        customer_df AS c\n",
    "    WHERE \n",
    "        c.Customer_ID NOT IN (SELECT DISTINCT Customer_ID FROM calls_df)\n",
    ")\n",
    "\n",
    "SELECT \n",
    "    ROUND(cc.total_covered / cp.total_covered, 2) AS customer_coverage\n",
    "FROM\n",
    "    customers_covered AS cc\n",
    "    , customers_in_plan AS cp"
   ]
  },
  {
   "cell_type": "markdown",
   "metadata": {},
   "source": [
    "## Results\n",
    "It is possible to claculate KPI, but there are some issues that must be fixed:\n",
    "- There are text values in the Date_of_Agreementcolumn from Customer table that must be replaced as NULL or excluded. Values Like\n",
    "  ['u6568',\n",
    " '*******',\n",
    " '#$#64ey4r',\n",
    " '*******',\n",
    " 'bfre3h',\n",
    " 'any date',\n",
    " 'any date',\n",
    " 47357,\n",
    " '*******',\n",
    " '**34656',\n",
    " 464654,\n",
    " 325,\n",
    " '*******',\n",
    " '*******']\n",
    "- Date_of_Agreement column from Customer table must be converted to Date\n",
    "- There are dates in the Date_of_Agreement from the future like '12/17/3091' or from the last century like '2/17/1900'\n",
    "- There are wierd dates in the Call_Date_UTC from the last century like '8/30/1921'\n"
   ]
  }
 ],
 "metadata": {
  "kernelspec": {
   "display_name": "Python 3",
   "language": "python",
   "name": "python3"
  },
  "language_info": {
   "codemirror_mode": {
    "name": "ipython",
    "version": 3
   },
   "file_extension": ".py",
   "mimetype": "text/x-python",
   "name": "python",
   "nbconvert_exporter": "python",
   "pygments_lexer": "ipython3",
   "version": "3.10.8"
  }
 },
 "nbformat": 4,
 "nbformat_minor": 2
}
